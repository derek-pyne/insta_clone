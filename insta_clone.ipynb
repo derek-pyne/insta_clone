{
 "cells": [
  {
   "cell_type": "code",
   "execution_count": null,
   "metadata": {
    "pycharm": {
     "is_executing": false
    }
   },
   "outputs": [],
   "source": [
    "# https://tarunlalwani.com/post/reusing-existing-browser-session-selenium/\n",
    "# https://medium.com/better-programming/lets-create-an-instagram-bot-to-show-you-the-power-of-selenium-349d7a6744f7\n",
    "# https://towardsdatascience.com/web-scraping-using-selenium-and-beautifulsoup-99195cd70a58\n",
    "# https://medium.com/@srujana.rao2/scraping-instagram-with-python-using-selenium-and-beautiful-soup-8b72c186a058\n",
    "import time\n",
    "from bs4 import BeautifulSoup\n",
    "import bs4\n",
    "from selenium import webdriver\n",
    "from selenium.webdriver.common.keys import Keys\n",
    "import requests\n",
    "\n",
    "%matplotlib inline\n",
    "import matplotlib.pyplot as plt\n",
    "import uuid\n",
    "import pandas as pd"
   ]
  },
  {
   "cell_type": "markdown",
   "metadata": {},
   "source": [
    "## Open browser to login page"
   ]
  },
  {
   "cell_type": "code",
   "execution_count": null,
   "metadata": {
    "pycharm": {
     "name": "#%%\n"
    }
   },
   "outputs": [],
   "source": [
    "email = 'harvestharvest894@gmail.com'\n",
    "password = 'earplugs99'\n",
    "\n",
    "browser = webdriver.Chrome()\n",
    "browser.get('https://www.instagram.com/accounts/login/ ')"
   ]
  },
  {
   "cell_type": "markdown",
   "metadata": {},
   "source": [
    "## Login"
   ]
  },
  {
   "cell_type": "code",
   "execution_count": null,
   "metadata": {
    "pycharm": {
     "is_executing": false,
     "name": "#%%\n"
    }
   },
   "outputs": [],
   "source": [
    "emailInput = browser.find_elements_by_css_selector('form input')[0]\n",
    "passwordInput = browser.find_elements_by_css_selector('form input')[1]\n",
    "\n",
    "emailInput.send_keys(email)\n",
    "passwordInput.send_keys(password)\n",
    "passwordInput.send_keys(Keys.ENTER)\n",
    "\n",
    "time.sleep(2)"
   ]
  },
  {
   "cell_type": "markdown",
   "metadata": {},
   "source": [
    "## Dismiss notification pop"
   ]
  },
  {
   "cell_type": "code",
   "execution_count": null,
   "metadata": {},
   "outputs": [],
   "source": [
    "browser.find_element_by_xpath('//button[text()=\"Not Now\"]').click()"
   ]
  },
  {
   "cell_type": "markdown",
   "metadata": {},
   "source": [
    "## Search for profile"
   ]
  },
  {
   "cell_type": "code",
   "execution_count": null,
   "metadata": {},
   "outputs": [],
   "source": [
    "# search_input = browser.find_element_by_xpath(\"//input[@placeholder='Search']\")"
   ]
  },
  {
   "cell_type": "code",
   "execution_count": null,
   "metadata": {},
   "outputs": [],
   "source": [
    "# search_input.send_keys('pizza')\n",
    "# time.sleep(1)"
   ]
  },
  {
   "cell_type": "markdown",
   "metadata": {},
   "source": [
    "## Scroll through page and collect source"
   ]
  },
  {
   "cell_type": "code",
   "execution_count": null,
   "metadata": {},
   "outputs": [],
   "source": [
    "SCROLL_PAUSE_TIME = 1.0\n",
    "soups = []\n",
    "# Get scroll height\n",
    "last_height = browser.execute_script(\"return document.body.scrollHeight\")\n",
    "\n",
    "for _ in range(10):\n",
    "    soups.append(BeautifulSoup(browser.page_source))\n",
    "    # Scroll down to bottom\n",
    "    browser.execute_script(\"window.scrollTo(0, document.body.scrollHeight);\")\n",
    "\n",
    "    # Wait to load page\n",
    "    time.sleep(SCROLL_PAUSE_TIME)\n",
    "\n",
    "    # Calculate new scroll height and compare with last scroll height\n",
    "    new_height = browser.execute_script(\"return document.body.scrollHeight\")\n",
    "    if new_height == last_height:\n",
    "        break\n",
    "    \n",
    "    last_height = new_height"
   ]
  },
  {
   "cell_type": "markdown",
   "metadata": {},
   "source": [
    "## Grab all posts"
   ]
  },
  {
   "cell_type": "code",
   "execution_count": null,
   "metadata": {
    "pycharm": {
     "is_executing": false,
     "name": "#%%\n"
    }
   },
   "outputs": [],
   "source": [
    "# soup = BeautifulSoup(browser.page_source)\n",
    "\n",
    "# articles = soup.find_all('article')"
   ]
  },
  {
   "cell_type": "code",
   "execution_count": null,
   "metadata": {},
   "outputs": [],
   "source": [
    "def extract_from_post_article(article: bs4.element.Tag):\n",
    "    post_images = [image for image in article.find_all('img') if 'profile picture' not in image.get('alt')]\n",
    "    post_image = post_images[0]\n",
    "    alt_text = post_image.get('alt')\n",
    "    img_insta_url = post_image.get('src')\n",
    "    \n",
    "    influencer = article.contents[0].text\n",
    "    \n",
    "    caption = article.contents[2].find_all(recursive=False)[2].text\n",
    "    if caption.startswith(influencer):\n",
    "        caption = caption[len(influencer):]\n",
    "\n",
    "    caption = caption.split('View all')[0]\n",
    "    \n",
    "    id = uuid.uuid4()\n",
    "    \n",
    "    r = requests.get(img_insta_url)\n",
    "    img_file = \"{}_{}.jpg\".format(influencer, id)\n",
    "    with open(img_file, 'wb') as f:\n",
    "        f.write(r.content)\n",
    "        \n",
    "    return {\n",
    "        'alt_text': alt_text,\n",
    "        'img_insta_url': img_insta_url,\n",
    "        'influencer': influencer,\n",
    "        'caption': caption,\n",
    "        'id': id,\n",
    "        'img_file': img_file,\n",
    "    }\n",
    "    \n",
    "    \n",
    "# extract_from_post_article(articles[0])"
   ]
  },
  {
   "cell_type": "code",
   "execution_count": null,
   "metadata": {},
   "outputs": [],
   "source": [
    "def process_soup(soup):\n",
    "    articles = soup.find_all('article')\n",
    "    \n",
    "    processed_articles = []\n",
    "    for article in articles:\n",
    "        processed_articles.append(\n",
    "            extract_from_post_article(article)\n",
    "        )\n",
    "    return pd.DataFrame(processed_articles)\n",
    "\n",
    "article_dfs = [process_soup(soup) for soup in soups]"
   ]
  },
  {
   "cell_type": "code",
   "execution_count": null,
   "metadata": {},
   "outputs": [],
   "source": [
    "pd.concat(article_dfs)"
   ]
  },
  {
   "cell_type": "code",
   "execution_count": null,
   "metadata": {},
   "outputs": [],
   "source": []
  }
 ],
 "metadata": {
  "kernelspec": {
   "display_name": "Python 3",
   "language": "python",
   "name": "python3"
  },
  "language_info": {
   "codemirror_mode": {
    "name": "ipython",
    "version": 3
   },
   "file_extension": ".py",
   "mimetype": "text/x-python",
   "name": "python",
   "nbconvert_exporter": "python",
   "pygments_lexer": "ipython3",
   "version": "3.7.5"
  },
  "pycharm": {
   "stem_cell": {
    "cell_type": "raw",
    "metadata": {
     "collapsed": false
    },
    "source": []
   }
  }
 },
 "nbformat": 4,
 "nbformat_minor": 4
}
