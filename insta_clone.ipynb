{
 "cells": [
  {
   "cell_type": "code",
   "execution_count": 1,
   "metadata": {
    "pycharm": {
     "is_executing": false
    }
   },
   "outputs": [],
   "source": [
    "# https://tarunlalwani.com/post/reusing-existing-browser-session-selenium/\n",
    "# https://medium.com/better-programming/lets-create-an-instagram-bot-to-show-you-the-power-of-selenium-349d7a6744f7\n",
    "# https://towardsdatascience.com/web-scraping-using-selenium-and-beautifulsoup-99195cd70a58\n",
    "# https://medium.com/@srujana.rao2/scraping-instagram-with-python-using-selenium-and-beautiful-soup-8b72c186a058\n",
    "import time\n",
    "from bs4 import BeautifulSoup\n",
    "import bs4\n",
    "from selenium import webdriver\n",
    "from selenium.webdriver.common.keys import Keys\n",
    "import requests\n",
    "\n",
    "%matplotlib inline\n",
    "import matplotlib.pyplot as plt\n",
    "import uuid\n",
    "import pandas as pd"
   ]
  },
  {
   "cell_type": "markdown",
   "metadata": {},
   "source": [
    "## Open browser to login page"
   ]
  },
  {
   "cell_type": "code",
   "execution_count": 2,
   "metadata": {
    "pycharm": {
     "name": "#%%\n"
    }
   },
   "outputs": [],
   "source": [
    "email = 'harvestharvest894@gmail.com'\n",
    "password = 'earplugs99'\n",
    "\n",
    "browser = webdriver.Chrome()\n",
    "browser.get('https://www.instagram.com/accounts/login/ ')"
   ]
  },
  {
   "cell_type": "markdown",
   "metadata": {},
   "source": [
    "## Login"
   ]
  },
  {
   "cell_type": "code",
   "execution_count": 3,
   "metadata": {
    "pycharm": {
     "is_executing": false,
     "name": "#%%\n"
    }
   },
   "outputs": [],
   "source": [
    "emailInput = browser.find_elements_by_css_selector('form input')[0]\n",
    "passwordInput = browser.find_elements_by_css_selector('form input')[1]\n",
    "\n",
    "emailInput.send_keys(email)\n",
    "passwordInput.send_keys(password)\n",
    "passwordInput.send_keys(Keys.ENTER)\n",
    "\n",
    "time.sleep(2)"
   ]
  },
  {
   "cell_type": "markdown",
   "metadata": {},
   "source": [
    "## Dismiss notification pop"
   ]
  },
  {
   "cell_type": "code",
   "execution_count": 4,
   "metadata": {},
   "outputs": [],
   "source": [
    "browser.find_element_by_xpath('//button[text()=\"Not Now\"]').click()"
   ]
  },
  {
   "cell_type": "markdown",
   "metadata": {},
   "source": [
    "## Search for profile"
   ]
  },
  {
   "cell_type": "code",
   "execution_count": 5,
   "metadata": {},
   "outputs": [],
   "source": [
    "# search_input = browser.find_element_by_xpath(\"//input[@placeholder='Search']\")"
   ]
  },
  {
   "cell_type": "code",
   "execution_count": 6,
   "metadata": {},
   "outputs": [],
   "source": [
    "# search_input.send_keys('pizza')\n",
    "# time.sleep(1)"
   ]
  },
  {
   "cell_type": "markdown",
   "metadata": {},
   "source": [
    "## Scroll through page and collect source"
   ]
  },
  {
   "cell_type": "code",
   "execution_count": 7,
   "metadata": {},
   "outputs": [],
   "source": [
    "# more_button = browser.find_element_by_xpath('//button[text()=\"more\"]')"
   ]
  },
  {
   "cell_type": "code",
   "execution_count": 8,
   "metadata": {},
   "outputs": [],
   "source": [
    "# more_button.click()"
   ]
  },
  {
   "cell_type": "code",
   "execution_count": 9,
   "metadata": {},
   "outputs": [],
   "source": [
    "# for more_button in browser.find_elements_by_xpath('//button[text()=\"more\"]'):\n",
    "#     more_button.click()"
   ]
  },
  {
   "cell_type": "code",
   "execution_count": 10,
   "metadata": {},
   "outputs": [],
   "source": [
    "# browser.get_window_size()['height']"
   ]
  },
  {
   "cell_type": "code",
   "execution_count": 11,
   "metadata": {},
   "outputs": [],
   "source": [
    "browser.execute_script(\"window.scrollBy(0, {});\".format(browser.get_window_size()['height']))"
   ]
  },
  {
   "cell_type": "code",
   "execution_count": 12,
   "metadata": {},
   "outputs": [],
   "source": [
    "SCROLL_PAUSE_TIME = 1.0\n",
    "soups = []\n",
    "# Get scroll height\n",
    "# last_height = browser.execute_script(\"return document.body.scrollHeight\")\n",
    "# last_height = browser.get_window_size()['height']\n",
    "scroll_position = 0  \n",
    "\n",
    "for _ in range(10):\n",
    "#     for more_button in browser.find_elements_by_xpath('//button[text()=\"more\"]'):\n",
    "#         print('Clicking more')\n",
    "#         more_button.click()\n",
    "    time.sleep(SCROLL_PAUSE_TIME)\n",
    "    \n",
    "    soups.append(BeautifulSoup(browser.page_source))\n",
    "    \n",
    "    # Scroll down to bottom\n",
    "#     browser.execute_script(\"window.scrollTo(0, document.body.scrollHeight);\")\n",
    "#     browser.execute_script(\"window.scrollTo(0, {});\".format(browser.get_window_size()['height']))\n",
    "    browser.execute_script(\"window.scrollTo(0, {});\".format(scroll_position))\n",
    "\n",
    "    # Wait to load page\n",
    "    time.sleep(SCROLL_PAUSE_TIME)\n",
    "\n",
    "    # Calculate new scroll height and compare with last scroll height\n",
    "#     new_height = browser.execute_script(\"return document.body.scrollHeight\")\n",
    "#     print('New height: {}'.format(new_height))\n",
    "#     print('New height: {}'.format(last_height))\n",
    "#     if new_height == last_height:\n",
    "#         break\n",
    "    scroll_position += browser.get_window_size()['height']\n",
    "#     last_height = new_height\n",
    "#     break"
   ]
  },
  {
   "cell_type": "markdown",
   "metadata": {},
   "source": [
    "## Grab all posts"
   ]
  },
  {
   "cell_type": "code",
   "execution_count": 13,
   "metadata": {
    "pycharm": {
     "is_executing": false,
     "name": "#%%\n"
    }
   },
   "outputs": [],
   "source": [
    "# soup = BeautifulSoup(browser.page_source)\n",
    "\n",
    "# articles = soup.find_all('article')"
   ]
  },
  {
   "cell_type": "code",
   "execution_count": 14,
   "metadata": {},
   "outputs": [],
   "source": [
    "def extract_from_post_article(article: bs4.element.Tag):\n",
    "    post_images = [image for image in article.find_all('img') if 'profile picture' not in image.get('alt')]\n",
    "    post_image = post_images[0]\n",
    "    alt_text = post_image.get('alt')\n",
    "    img_insta_url = post_image.get('src')\n",
    "    \n",
    "    influencer = article.contents[0].text\n",
    "    \n",
    "    caption = article.contents[2].find_all(recursive=False)[2].text\n",
    "    if caption.startswith(influencer):\n",
    "        caption = caption[len(influencer):]\n",
    "\n",
    "    caption = caption.split('View all')[0]\n",
    "    \n",
    "    id = uuid.uuid4()\n",
    "    \n",
    "    r = requests.get(img_insta_url)\n",
    "    img_file = \"tmp/{}_{}.jpg\".format(influencer, id)\n",
    "    with open(img_file, 'wb') as f:\n",
    "        f.write(r.content)\n",
    "        \n",
    "    return {\n",
    "        'alt_text': alt_text,\n",
    "        'img_insta_url': img_insta_url,\n",
    "        'influencer': influencer,\n",
    "        'influencer_caption': caption,\n",
    "        'id': id,\n",
    "        'img_file': img_file,\n",
    "    }\n",
    "    \n",
    "    \n",
    "# extract_from_post_article(articles[0])"
   ]
  },
  {
   "cell_type": "code",
   "execution_count": 15,
   "metadata": {},
   "outputs": [],
   "source": [
    "def process_soup(soup):\n",
    "    articles = soup.find_all('article')\n",
    "    \n",
    "    processed_articles = []\n",
    "    for article in articles:\n",
    "        processed_articles.append(\n",
    "            extract_from_post_article(article)\n",
    "        )\n",
    "    return pd.DataFrame(processed_articles)\n",
    "\n",
    "article_dfs = [process_soup(soup) for soup in soups]"
   ]
  },
  {
   "cell_type": "code",
   "execution_count": 16,
   "metadata": {},
   "outputs": [
    {
     "data": {
      "text/html": [
       "<div>\n",
       "<style scoped>\n",
       "    .dataframe tbody tr th:only-of-type {\n",
       "        vertical-align: middle;\n",
       "    }\n",
       "\n",
       "    .dataframe tbody tr th {\n",
       "        vertical-align: top;\n",
       "    }\n",
       "\n",
       "    .dataframe thead th {\n",
       "        text-align: right;\n",
       "    }\n",
       "</style>\n",
       "<table border=\"1\" class=\"dataframe\">\n",
       "  <thead>\n",
       "    <tr style=\"text-align: right;\">\n",
       "      <th></th>\n",
       "      <th>alt_text</th>\n",
       "      <th>img_insta_url</th>\n",
       "      <th>influencer</th>\n",
       "      <th>influencer_caption</th>\n",
       "      <th>id</th>\n",
       "      <th>img_file</th>\n",
       "    </tr>\n",
       "  </thead>\n",
       "  <tbody>\n",
       "    <tr>\n",
       "      <th>0</th>\n",
       "      <td></td>\n",
       "      <td>https://scontent-yyz1-1.cdninstagram.com/v/t51...</td>\n",
       "      <td>dogs.therapy</td>\n",
       "      <td>10% OFF Today using Discount Code : DOGLOVE (l...</td>\n",
       "      <td>932df00f-d380-4fc2-9d29-bc5b6415e8d7</td>\n",
       "      <td>tmp/dogs.therapy_932df00f-d380-4fc2-9d29-bc5b6...</td>\n",
       "    </tr>\n",
       "    <tr>\n",
       "      <th>1</th>\n",
       "      <td>Image may contain: dog</td>\n",
       "      <td>https://scontent-yyz1-1.cdninstagram.com/v/t51...</td>\n",
       "      <td>puppytoday</td>\n",
       "      <td></td>\n",
       "      <td>8b3604e8-b294-4fe8-873c-3194a59ac478</td>\n",
       "      <td>tmp/puppytoday_8b3604e8-b294-4fe8-873c-3194a59...</td>\n",
       "    </tr>\n",
       "    <tr>\n",
       "      <th>2</th>\n",
       "      <td>Image may contain: dog and outdoor</td>\n",
       "      <td>https://scontent-yyz1-1.cdninstagram.com/v/t51...</td>\n",
       "      <td>puppytoday</td>\n",
       "      <td></td>\n",
       "      <td>aadb5910-1004-4ec6-953f-90de1e3cab16</td>\n",
       "      <td>tmp/puppytoday_aadb5910-1004-4ec6-953f-90de1e3...</td>\n",
       "    </tr>\n",
       "    <tr>\n",
       "      <th>3</th>\n",
       "      <td>Image may contain: people sitting, dog and text</td>\n",
       "      <td>https://scontent-yyz1-1.cdninstagram.com/v/t51...</td>\n",
       "      <td>dogs.therapy</td>\n",
       "      <td>samesies.😭❤... more</td>\n",
       "      <td>1d71a94e-72ce-4563-a834-8f96ae43de86</td>\n",
       "      <td>tmp/dogs.therapy_1d71a94e-72ce-4563-a834-8f96a...</td>\n",
       "    </tr>\n",
       "    <tr>\n",
       "      <th>0</th>\n",
       "      <td></td>\n",
       "      <td>https://scontent-yyz1-1.cdninstagram.com/v/t51...</td>\n",
       "      <td>dogs.therapy</td>\n",
       "      <td>10% OFF Today using Discount Code : DOGLOVE (l...</td>\n",
       "      <td>76ca0751-ab36-4354-ac2e-c5930ce6981a</td>\n",
       "      <td>tmp/dogs.therapy_76ca0751-ab36-4354-ac2e-c5930...</td>\n",
       "    </tr>\n",
       "  </tbody>\n",
       "</table>\n",
       "</div>"
      ],
      "text/plain": [
       "                                          alt_text  \\\n",
       "0                                                    \n",
       "1                           Image may contain: dog   \n",
       "2               Image may contain: dog and outdoor   \n",
       "3  Image may contain: people sitting, dog and text   \n",
       "0                                                    \n",
       "\n",
       "                                       img_insta_url    influencer  \\\n",
       "0  https://scontent-yyz1-1.cdninstagram.com/v/t51...  dogs.therapy   \n",
       "1  https://scontent-yyz1-1.cdninstagram.com/v/t51...    puppytoday   \n",
       "2  https://scontent-yyz1-1.cdninstagram.com/v/t51...    puppytoday   \n",
       "3  https://scontent-yyz1-1.cdninstagram.com/v/t51...  dogs.therapy   \n",
       "0  https://scontent-yyz1-1.cdninstagram.com/v/t51...  dogs.therapy   \n",
       "\n",
       "                                  influencer_caption  \\\n",
       "0  10% OFF Today using Discount Code : DOGLOVE (l...   \n",
       "1                                                      \n",
       "2                                                      \n",
       "3                                samesies.😭❤... more   \n",
       "0  10% OFF Today using Discount Code : DOGLOVE (l...   \n",
       "\n",
       "                                     id  \\\n",
       "0  932df00f-d380-4fc2-9d29-bc5b6415e8d7   \n",
       "1  8b3604e8-b294-4fe8-873c-3194a59ac478   \n",
       "2  aadb5910-1004-4ec6-953f-90de1e3cab16   \n",
       "3  1d71a94e-72ce-4563-a834-8f96ae43de86   \n",
       "0  76ca0751-ab36-4354-ac2e-c5930ce6981a   \n",
       "\n",
       "                                            img_file  \n",
       "0  tmp/dogs.therapy_932df00f-d380-4fc2-9d29-bc5b6...  \n",
       "1  tmp/puppytoday_8b3604e8-b294-4fe8-873c-3194a59...  \n",
       "2  tmp/puppytoday_aadb5910-1004-4ec6-953f-90de1e3...  \n",
       "3  tmp/dogs.therapy_1d71a94e-72ce-4563-a834-8f96a...  \n",
       "0  tmp/dogs.therapy_76ca0751-ab36-4354-ac2e-c5930...  "
      ]
     },
     "execution_count": 16,
     "metadata": {},
     "output_type": "execute_result"
    }
   ],
   "source": [
    "scrapped_df = pd.concat(article_dfs)\n",
    "scrapped_df.head()"
   ]
  },
  {
   "cell_type": "code",
   "execution_count": 17,
   "metadata": {},
   "outputs": [],
   "source": [
    "import base64\n",
    "\n",
    "def encode_image(f):\n",
    "    with open(f, \"rb\") as img_file:\n",
    "        encoded_image = base64.b64encode(img_file.read())\n",
    "    return encoded_image\n",
    "\n",
    "scrapped_df['img_base64'] = scrapped_df['img_file'].apply(encode_image)"
   ]
  },
  {
   "cell_type": "code",
   "execution_count": 18,
   "metadata": {},
   "outputs": [],
   "source": [
    "def hash_post(x):\n",
    "    return str(hash(x['influencer'] + x['influencer_caption'] + str(hash(x['img_base64']))))\n",
    "scrapped_df['id'] = scrapped_df.apply(hash_post, axis=1)"
   ]
  },
  {
   "cell_type": "code",
   "execution_count": 19,
   "metadata": {},
   "outputs": [],
   "source": [
    "\n",
    "from app.models import Post"
   ]
  },
  {
   "cell_type": "code",
   "execution_count": 20,
   "metadata": {},
   "outputs": [],
   "source": [
    "from contextlib import contextmanager\n",
    "from sqlalchemy.orm import sessionmaker\n",
    "from sqlalchemy import create_engine\n",
    "\n",
    "DATABASE_URL=\"postgresql://localhost:5432/insta_clone\"\n",
    "engine = create_engine(DATABASE_URL)\n",
    "\n",
    "Session = sessionmaker(bind=engine)\n",
    "@contextmanager\n",
    "def session_scope():\n",
    "    \"\"\"Provide a transactional scope around a series of operations.\"\"\"\n",
    "    session = Session()\n",
    "    try:\n",
    "        yield session\n",
    "        session.commit()\n",
    "    except:\n",
    "        session.rollback()\n",
    "        raise\n",
    "    finally:\n",
    "        session.close()"
   ]
  },
  {
   "cell_type": "code",
   "execution_count": 21,
   "metadata": {},
   "outputs": [
    {
     "data": {
      "text/html": [
       "<div>\n",
       "<style scoped>\n",
       "    .dataframe tbody tr th:only-of-type {\n",
       "        vertical-align: middle;\n",
       "    }\n",
       "\n",
       "    .dataframe tbody tr th {\n",
       "        vertical-align: top;\n",
       "    }\n",
       "\n",
       "    .dataframe thead th {\n",
       "        text-align: right;\n",
       "    }\n",
       "</style>\n",
       "<table border=\"1\" class=\"dataframe\">\n",
       "  <thead>\n",
       "    <tr style=\"text-align: right;\">\n",
       "      <th></th>\n",
       "      <th>alt_text</th>\n",
       "      <th>img_insta_url</th>\n",
       "      <th>influencer</th>\n",
       "      <th>influencer_caption</th>\n",
       "      <th>id</th>\n",
       "      <th>img_file</th>\n",
       "      <th>img_base64</th>\n",
       "    </tr>\n",
       "  </thead>\n",
       "  <tbody>\n",
       "    <tr>\n",
       "      <th>0</th>\n",
       "      <td></td>\n",
       "      <td>https://scontent-yyz1-1.cdninstagram.com/v/t51...</td>\n",
       "      <td>dogs.therapy</td>\n",
       "      <td>10% OFF Today using Discount Code : DOGLOVE (l...</td>\n",
       "      <td>8201613119994951548</td>\n",
       "      <td>tmp/dogs.therapy_932df00f-d380-4fc2-9d29-bc5b6...</td>\n",
       "      <td>b'/9j/4AAQSkZJRgABAQAAAQABAAD/7QB8UGhvdG9zaG9w...</td>\n",
       "    </tr>\n",
       "    <tr>\n",
       "      <th>1</th>\n",
       "      <td>Image may contain: dog</td>\n",
       "      <td>https://scontent-yyz1-1.cdninstagram.com/v/t51...</td>\n",
       "      <td>puppytoday</td>\n",
       "      <td></td>\n",
       "      <td>3037839132033785413</td>\n",
       "      <td>tmp/puppytoday_8b3604e8-b294-4fe8-873c-3194a59...</td>\n",
       "      <td>b'/9j/4AAQSkZJRgABAQAAAQABAAD/7QB8UGhvdG9zaG9w...</td>\n",
       "    </tr>\n",
       "    <tr>\n",
       "      <th>2</th>\n",
       "      <td>Image may contain: dog and outdoor</td>\n",
       "      <td>https://scontent-yyz1-1.cdninstagram.com/v/t51...</td>\n",
       "      <td>puppytoday</td>\n",
       "      <td></td>\n",
       "      <td>-3645183433122581777</td>\n",
       "      <td>tmp/puppytoday_aadb5910-1004-4ec6-953f-90de1e3...</td>\n",
       "      <td>b'/9j/4AAQSkZJRgABAQAAAQABAAD/7QB8UGhvdG9zaG9w...</td>\n",
       "    </tr>\n",
       "    <tr>\n",
       "      <th>3</th>\n",
       "      <td>Image may contain: people sitting, dog and text</td>\n",
       "      <td>https://scontent-yyz1-1.cdninstagram.com/v/t51...</td>\n",
       "      <td>dogs.therapy</td>\n",
       "      <td>samesies.😭❤... more</td>\n",
       "      <td>-9167216749164457050</td>\n",
       "      <td>tmp/dogs.therapy_1d71a94e-72ce-4563-a834-8f96a...</td>\n",
       "      <td>b'/9j/4AAQSkZJRgABAQAAAQABAAD/7QB8UGhvdG9zaG9w...</td>\n",
       "    </tr>\n",
       "    <tr>\n",
       "      <th>0</th>\n",
       "      <td></td>\n",
       "      <td>https://scontent-yyz1-1.cdninstagram.com/v/t51...</td>\n",
       "      <td>dogs.therapy</td>\n",
       "      <td>10% OFF Today using Discount Code : DOGLOVE (l...</td>\n",
       "      <td>8201613119994951548</td>\n",
       "      <td>tmp/dogs.therapy_76ca0751-ab36-4354-ac2e-c5930...</td>\n",
       "      <td>b'/9j/4AAQSkZJRgABAQAAAQABAAD/7QB8UGhvdG9zaG9w...</td>\n",
       "    </tr>\n",
       "  </tbody>\n",
       "</table>\n",
       "</div>"
      ],
      "text/plain": [
       "                                          alt_text  \\\n",
       "0                                                    \n",
       "1                           Image may contain: dog   \n",
       "2               Image may contain: dog and outdoor   \n",
       "3  Image may contain: people sitting, dog and text   \n",
       "0                                                    \n",
       "\n",
       "                                       img_insta_url    influencer  \\\n",
       "0  https://scontent-yyz1-1.cdninstagram.com/v/t51...  dogs.therapy   \n",
       "1  https://scontent-yyz1-1.cdninstagram.com/v/t51...    puppytoday   \n",
       "2  https://scontent-yyz1-1.cdninstagram.com/v/t51...    puppytoday   \n",
       "3  https://scontent-yyz1-1.cdninstagram.com/v/t51...  dogs.therapy   \n",
       "0  https://scontent-yyz1-1.cdninstagram.com/v/t51...  dogs.therapy   \n",
       "\n",
       "                                  influencer_caption                    id  \\\n",
       "0  10% OFF Today using Discount Code : DOGLOVE (l...   8201613119994951548   \n",
       "1                                                      3037839132033785413   \n",
       "2                                                     -3645183433122581777   \n",
       "3                                samesies.😭❤... more  -9167216749164457050   \n",
       "0  10% OFF Today using Discount Code : DOGLOVE (l...   8201613119994951548   \n",
       "\n",
       "                                            img_file  \\\n",
       "0  tmp/dogs.therapy_932df00f-d380-4fc2-9d29-bc5b6...   \n",
       "1  tmp/puppytoday_8b3604e8-b294-4fe8-873c-3194a59...   \n",
       "2  tmp/puppytoday_aadb5910-1004-4ec6-953f-90de1e3...   \n",
       "3  tmp/dogs.therapy_1d71a94e-72ce-4563-a834-8f96a...   \n",
       "0  tmp/dogs.therapy_76ca0751-ab36-4354-ac2e-c5930...   \n",
       "\n",
       "                                          img_base64  \n",
       "0  b'/9j/4AAQSkZJRgABAQAAAQABAAD/7QB8UGhvdG9zaG9w...  \n",
       "1  b'/9j/4AAQSkZJRgABAQAAAQABAAD/7QB8UGhvdG9zaG9w...  \n",
       "2  b'/9j/4AAQSkZJRgABAQAAAQABAAD/7QB8UGhvdG9zaG9w...  \n",
       "3  b'/9j/4AAQSkZJRgABAQAAAQABAAD/7QB8UGhvdG9zaG9w...  \n",
       "0  b'/9j/4AAQSkZJRgABAQAAAQABAAD/7QB8UGhvdG9zaG9w...  "
      ]
     },
     "execution_count": 21,
     "metadata": {},
     "output_type": "execute_result"
    }
   ],
   "source": [
    "scrapped_df.head()"
   ]
  },
  {
   "cell_type": "code",
   "execution_count": 23,
   "metadata": {},
   "outputs": [
    {
     "name": "stdout",
     "output_type": "stream",
     "text": [
      "Id: 8201613119994951548\n",
      "No existing post found, saving\n",
      "Id: 3037839132033785413\n",
      "No existing post found, saving\n",
      "Id: -3645183433122581777\n",
      "No existing post found, saving\n",
      "Id: -9167216749164457050\n",
      "No existing post found, saving\n",
      "Id: 8201613119994951548\n",
      "Id: 3037839132033785413\n",
      "Id: -3645183433122581777\n",
      "Id: 8201613119994951548\n",
      "Id: 3037839132033785413\n",
      "Id: -3645183433122581777\n",
      "Id: -9167216749164457050\n",
      "Id: 8201613119994951548\n",
      "Id: 3037839132033785413\n",
      "Id: -3645183433122581777\n",
      "Id: -9167216749164457050\n",
      "Id: 27994054083348994\n",
      "No existing post found, saving\n",
      "Id: 3616173502171678554\n",
      "No existing post found, saving\n",
      "Id: 8201613119994951548\n",
      "Id: 3037839132033785413\n",
      "Id: -3645183433122581777\n",
      "Id: -9167216749164457050\n",
      "Id: 27994054083348994\n",
      "Id: 3616173502171678554\n",
      "Id: 3037839132033785413\n",
      "Id: -3645183433122581777\n",
      "Id: -9167216749164457050\n",
      "Id: 27994054083348994\n",
      "Id: 3616173502171678554\n",
      "Id: 6530405874601374406\n",
      "No existing post found, saving\n",
      "Id: 3037839132033785413\n",
      "Id: -3645183433122581777\n",
      "Id: -9167216749164457050\n",
      "Id: 27994054083348994\n",
      "Id: 3616173502171678554\n",
      "Id: 6530405874601374406\n",
      "Id: 1146663726670661100\n",
      "No existing post found, saving\n",
      "Id: -3645183433122581777\n",
      "Id: -9167216749164457050\n",
      "Id: 27994054083348994\n",
      "Id: 3616173502171678554\n",
      "Id: 6530405874601374406\n",
      "Id: 1146663726670661100\n",
      "Id: 6777218779331125200\n",
      "No existing post found, saving\n",
      "Id: -3645183433122581777\n",
      "Id: -9167216749164457050\n",
      "Id: 27994054083348994\n",
      "Id: 3616173502171678554\n",
      "Id: 6530405874601374406\n",
      "Id: 1146663726670661100\n",
      "Id: 6777218779331125200\n",
      "Id: -3222233839703011753\n",
      "No existing post found, saving\n",
      "Id: -9167216749164457050\n",
      "Id: 27994054083348994\n",
      "Id: 3616173502171678554\n",
      "Id: 6530405874601374406\n",
      "Id: 1146663726670661100\n",
      "Id: 6777218779331125200\n",
      "Id: -3222233839703011753\n",
      "Id: -8077314834550252655\n",
      "No existing post found, saving\n"
     ]
    }
   ],
   "source": [
    "from shutil import copyfile\n",
    "\n",
    "\n",
    "\n",
    "def save_post_if_new(post, session):\n",
    "    print('Id: {}'.format(post['id']))\n",
    "    existing_matches = session.query(Post).filter_by(id=post['id']).first()\n",
    "    if not existing_matches:\n",
    "        print('No existing post found, saving')\n",
    "        copyfile(post['img_file'], 'data/{}_{}.png'.format(post['influencer'].replace('.', '_'), post['id']))\n",
    "        post['img_file'] = '{}_{}.png'.format(post['influencer'].replace('.', '_'), post['id'])\n",
    "        influencer_post = Post(**post[['id', 'influencer', 'img_file', 'influencer_caption', 'alt_text']].to_dict())\n",
    "        session.add(influencer_post)\n",
    "        session.commit()\n",
    "        \n",
    "with session_scope() as session:\n",
    "    scrapped_df.apply(save_post_if_new, axis=1, session=session)"
   ]
  },
  {
   "cell_type": "code",
   "execution_count": null,
   "metadata": {},
   "outputs": [],
   "source": []
  }
 ],
 "metadata": {
  "kernelspec": {
   "display_name": "Python 3",
   "language": "python",
   "name": "python3"
  },
  "language_info": {
   "codemirror_mode": {
    "name": "ipython",
    "version": 3
   },
   "file_extension": ".py",
   "mimetype": "text/x-python",
   "name": "python",
   "nbconvert_exporter": "python",
   "pygments_lexer": "ipython3",
   "version": "3.7.5"
  },
  "pycharm": {
   "stem_cell": {
    "cell_type": "raw",
    "metadata": {
     "collapsed": false
    },
    "source": []
   }
  }
 },
 "nbformat": 4,
 "nbformat_minor": 4
}
